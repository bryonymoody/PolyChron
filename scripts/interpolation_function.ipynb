{
 "cells": [
  {
   "cell_type": "code",
   "execution_count": 3,
   "metadata": {},
   "outputs": [],
   "source": [
    "import pandas as pd\n",
    "import pathlib\n",
    "from pathlib import Path\n",
    "import numpy as np\n",
    "import csv"
   ]
  },
  {
   "cell_type": "code",
   "execution_count": 4,
   "metadata": {},
   "outputs": [],
   "source": [
    "def convert_14c_to_standard_format(input_path, output_path):\n",
    "    # Read the first line to detect delimiter\n",
    "    with open(input_path, 'r') as f:\n",
    "        first_line = f.readline()\n",
    "        delimiter = ','\n",
    "\n",
    "    # Load file with detected delimiter, skip comments\n",
    "    df = pd.read_csv(\n",
    "        input_path,\n",
    "        comment=\"#\",\n",
    "        sep=delimiter,\n",
    "        header=None,\n",
    "        names=[\"Cal_BP\", \"14C_age\", \"Sigma1\", \"Delta_14C\", \"Sigma2\"]\n",
    "    )\n",
    "\n",
    "    # Rename and keep only the relevant columns\n",
    "    df = df.rename(columns={\n",
    "        \"Cal_BP\": \"calendar_year\",\n",
    "        \"14C_age\": \"carbon_year\",\n",
    "        \"Sigma2\": \"carbon_error\"\n",
    "    })\n",
    "    df_out = df[[\"calendar_year\", \"carbon_year\", \"carbon_error\"]].copy()\n",
    "\n",
    "    # Convert to numeric (cleaning strings)\n",
    "    df_out = df_out.apply(pd.to_numeric, errors=\"coerce\")\n",
    "\n",
    "    # Drop rows with bad data\n",
    "    df_out = df_out.dropna()\n",
    "\n",
    "    # Sort by calendar year\n",
    "    df_out = df_out.sort_values(\"calendar_year\").reset_index(drop=True)\n",
    "\n",
    "    # Add index column\n",
    "    df_out.insert(0, \"\", df_out.index)\n",
    "\n",
    "    # Write clean CSV output with desired header\n",
    "    with open(output_path, \"w\", newline=\"\") as f:\n",
    "        writer = csv.writer(f)\n",
    "        writer.writerow([\"\", \"Calendar_year\", \"Carbon_year\", \"Carbon_error\"])\n",
    "        writer.writerows(df_out.values)"
   ]
  },
  {
   "cell_type": "code",
   "execution_count": 7,
   "metadata": {},
   "outputs": [],
   "source": [
    "input_path = Path(\"marine20.14c\")\n",
    "output_path = input_path.with_name(input_path.stem + \"_converted.csv\")\n",
    "\n",
    "convert_14c_to_standard_format(input_path, output_path)"
   ]
  },
  {
   "cell_type": "code",
   "execution_count": 12,
   "metadata": {},
   "outputs": [],
   "source": [
    "# Load the original CSV file\n",
    "file_path = \"marine20_converted.csv\"\n",
    "df = pd.read_csv(file_path)\n",
    "\n",
    "# Define the new range of calendar years\n",
    "new_years = np.arange(0, 55001)\n",
    "\n",
    "# Perform linear interpolation for 'Carbon_year' and 'Carbon_error'\n",
    "carbon_interp = np.interp(new_years, df['Calendar_year'], df['Carbon_year'])\n",
    "error_interp = np.interp(new_years, df['Calendar_year'], df['Carbon_error'])\n",
    "\n",
    "# Create a new DataFrame with the interpolated values\n",
    "interpolated_df = pd.DataFrame({\n",
    "    'Calendar_year': new_years,\n",
    "    'Carbon_year': carbon_interp,\n",
    "    'Carbon_error': error_interp\n",
    "})\n",
    "\n",
    "# Add the index column like the original ('Unnamed: 0' renamed to 'Index')\n",
    "interpolated_df.insert(0, 'Index', range(len(interpolated_df)))\n",
    "\n",
    "# Save the interpolated data to a new CSV file\n",
    "output_path = \"marine20_interpolated.csv\"\n",
    "interpolated_df.to_csv(output_path, index=False)"
   ]
  }
 ],
 "metadata": {
  "kernelspec": {
   "display_name": "3.11.13",
   "language": "python",
   "name": "python3"
  },
  "language_info": {
   "codemirror_mode": {
    "name": "ipython",
    "version": 3
   },
   "file_extension": ".py",
   "mimetype": "text/x-python",
   "name": "python",
   "nbconvert_exporter": "python",
   "pygments_lexer": "ipython3",
   "version": "3.11.13"
  }
 },
 "nbformat": 4,
 "nbformat_minor": 2
}
